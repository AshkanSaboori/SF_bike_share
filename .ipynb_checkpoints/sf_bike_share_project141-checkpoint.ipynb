{
 "cells": [
  {
   "cell_type": "code",
   "execution_count": 31,
   "metadata": {
    "collapsed": false
   },
   "outputs": [
    {
     "ename": "ImportError",
     "evalue": "No module named basemap",
     "output_type": "error",
     "traceback": [
      "\u001b[0;31m---------------------------------------------------------------------------\u001b[0m",
      "\u001b[0;31mImportError\u001b[0m                               Traceback (most recent call last)",
      "\u001b[0;32m<ipython-input-31-bfd713537789>\u001b[0m in \u001b[0;36m<module>\u001b[0;34m()\u001b[0m\n\u001b[1;32m      6\u001b[0m \u001b[0;32mimport\u001b[0m \u001b[0mpandas\u001b[0m \u001b[0;32mas\u001b[0m \u001b[0mpd\u001b[0m\u001b[0;34m\u001b[0m\u001b[0m\n\u001b[1;32m      7\u001b[0m \u001b[0;32mimport\u001b[0m \u001b[0mparser\u001b[0m\u001b[0;34m\u001b[0m\u001b[0m\n\u001b[0;32m----> 8\u001b[0;31m \u001b[0;32mfrom\u001b[0m \u001b[0mmpl_toolkits\u001b[0m\u001b[0;34m.\u001b[0m\u001b[0mbasemap\u001b[0m \u001b[0;32mimport\u001b[0m \u001b[0mBasemap\u001b[0m\u001b[0;34m\u001b[0m\u001b[0m\n\u001b[0m",
      "\u001b[0;31mImportError\u001b[0m: No module named basemap"
     ]
    }
   ],
   "source": [
    "import datetime\n",
    "import matplotlib\n",
    "import matplotlib.pyplot as plt\n",
    "matplotlib.style.use('ggplot')\n",
    "import numpy as np\n",
    "import pandas as pd\n",
    "import parser\n",
    "#from mpl_toolkits.basemap import Basemap"
   ]
  },
  {
   "cell_type": "code",
   "execution_count": 25,
   "metadata": {
    "collapsed": true
   },
   "outputs": [],
   "source": [
    "#It might be different for all users\n",
    "path = '/Users/admin/project_data_141'"
   ]
  },
  {
   "cell_type": "code",
   "execution_count": 3,
   "metadata": {
    "collapsed": true
   },
   "outputs": [],
   "source": [
    "def read_data(path, year):\n",
    "    \"\"\"\n",
    "    reads csv data and returns 4 data frames for the given year\n",
    "    input: path\n",
    "    output: 4 data frames (station, status, trip, and weather)\n",
    "    \"\"\"\n",
    "    path = path + '/' + str(year) + '/'\n",
    "    station = pd.read_csv(path + 'station.csv')\n",
    "    status = pd.read_csv(path + 'status.csv')\n",
    "    trip = pd.read_csv(path + 'trip.csv')\n",
    "    weather = pd.read_csv(path + 'weather.csv')\n",
    "    \n",
    "    return station, status, trip, weather"
   ]
  },
  {
   "cell_type": "code",
   "execution_count": 4,
   "metadata": {
    "collapsed": false
   },
   "outputs": [],
   "source": [
    "station, status, trip, weather = read_data(path, 2016)"
   ]
  },
  {
   "cell_type": "code",
   "execution_count": 10,
   "metadata": {
    "collapsed": false
   },
   "outputs": [
    {
     "data": {
      "text/html": [
       "<div>\n",
       "<table border=\"1\" class=\"dataframe\">\n",
       "  <thead>\n",
       "    <tr style=\"text-align: right;\">\n",
       "      <th></th>\n",
       "      <th>station_id</th>\n",
       "      <th>name</th>\n",
       "      <th>lat</th>\n",
       "      <th>long</th>\n",
       "      <th>dockcount</th>\n",
       "      <th>landmark</th>\n",
       "      <th>installation</th>\n",
       "    </tr>\n",
       "  </thead>\n",
       "  <tbody>\n",
       "    <tr>\n",
       "      <th>0</th>\n",
       "      <td>2.0</td>\n",
       "      <td>San Jose Diridon Caltrain Station</td>\n",
       "      <td>37.329732</td>\n",
       "      <td>-121.901782</td>\n",
       "      <td>27.0</td>\n",
       "      <td>San Jose</td>\n",
       "      <td>8/6/2013</td>\n",
       "    </tr>\n",
       "    <tr>\n",
       "      <th>1</th>\n",
       "      <td>3.0</td>\n",
       "      <td>San Jose Civic Center</td>\n",
       "      <td>37.330698</td>\n",
       "      <td>-121.888979</td>\n",
       "      <td>15.0</td>\n",
       "      <td>San Jose</td>\n",
       "      <td>8/5/2013</td>\n",
       "    </tr>\n",
       "    <tr>\n",
       "      <th>2</th>\n",
       "      <td>4.0</td>\n",
       "      <td>Santa Clara at Almaden</td>\n",
       "      <td>37.333988</td>\n",
       "      <td>-121.894902</td>\n",
       "      <td>11.0</td>\n",
       "      <td>San Jose</td>\n",
       "      <td>8/6/2013</td>\n",
       "    </tr>\n",
       "    <tr>\n",
       "      <th>3</th>\n",
       "      <td>5.0</td>\n",
       "      <td>Adobe on Almaden</td>\n",
       "      <td>37.331415</td>\n",
       "      <td>-121.893200</td>\n",
       "      <td>19.0</td>\n",
       "      <td>San Jose</td>\n",
       "      <td>8/5/2013</td>\n",
       "    </tr>\n",
       "    <tr>\n",
       "      <th>4</th>\n",
       "      <td>6.0</td>\n",
       "      <td>San Pedro Square</td>\n",
       "      <td>37.336721</td>\n",
       "      <td>-121.894074</td>\n",
       "      <td>15.0</td>\n",
       "      <td>San Jose</td>\n",
       "      <td>8/7/2013</td>\n",
       "    </tr>\n",
       "  </tbody>\n",
       "</table>\n",
       "</div>"
      ],
      "text/plain": [
       "   station_id                               name        lat        long  \\\n",
       "0         2.0  San Jose Diridon Caltrain Station  37.329732 -121.901782   \n",
       "1         3.0              San Jose Civic Center  37.330698 -121.888979   \n",
       "2         4.0             Santa Clara at Almaden  37.333988 -121.894902   \n",
       "3         5.0                   Adobe on Almaden  37.331415 -121.893200   \n",
       "4         6.0                   San Pedro Square  37.336721 -121.894074   \n",
       "\n",
       "   dockcount  landmark installation  \n",
       "0       27.0  San Jose     8/6/2013  \n",
       "1       15.0  San Jose     8/5/2013  \n",
       "2       11.0  San Jose     8/6/2013  \n",
       "3       19.0  San Jose     8/5/2013  \n",
       "4       15.0  San Jose     8/7/2013  "
      ]
     },
     "execution_count": 10,
     "metadata": {},
     "output_type": "execute_result"
    }
   ],
   "source": [
    "station.head()"
   ]
  },
  {
   "cell_type": "code",
   "execution_count": 6,
   "metadata": {
    "collapsed": false
   },
   "outputs": [
    {
     "name": "stdout",
     "output_type": "stream",
     "text": [
      "(992, 7) (35517185, 4) (313689, 11) (1830, 24)\n"
     ]
    }
   ],
   "source": [
    "print station.shape, status.shape, trip.shape, weather.shape"
   ]
  },
  {
   "cell_type": "code",
   "execution_count": 11,
   "metadata": {
    "collapsed": false
   },
   "outputs": [
    {
     "data": {
      "text/html": [
       "<div>\n",
       "<table border=\"1\" class=\"dataframe\">\n",
       "  <thead>\n",
       "    <tr style=\"text-align: right;\">\n",
       "      <th></th>\n",
       "      <th>station_id</th>\n",
       "      <th>bikes_available</th>\n",
       "      <th>docks_available</th>\n",
       "      <th>time</th>\n",
       "    </tr>\n",
       "  </thead>\n",
       "  <tbody>\n",
       "    <tr>\n",
       "      <th>0</th>\n",
       "      <td>2</td>\n",
       "      <td>18</td>\n",
       "      <td>9</td>\n",
       "      <td>9/1/2015 00:00:02</td>\n",
       "    </tr>\n",
       "    <tr>\n",
       "      <th>1</th>\n",
       "      <td>2</td>\n",
       "      <td>18</td>\n",
       "      <td>9</td>\n",
       "      <td>9/1/2015 00:01:02</td>\n",
       "    </tr>\n",
       "    <tr>\n",
       "      <th>2</th>\n",
       "      <td>2</td>\n",
       "      <td>18</td>\n",
       "      <td>9</td>\n",
       "      <td>9/1/2015 00:02:02</td>\n",
       "    </tr>\n",
       "  </tbody>\n",
       "</table>\n",
       "</div>"
      ],
      "text/plain": [
       "   station_id  bikes_available  docks_available               time\n",
       "0           2               18                9  9/1/2015 00:00:02\n",
       "1           2               18                9  9/1/2015 00:01:02\n",
       "2           2               18                9  9/1/2015 00:02:02"
      ]
     },
     "execution_count": 11,
     "metadata": {},
     "output_type": "execute_result"
    }
   ],
   "source": [
    "status.head(3)"
   ]
  },
  {
   "cell_type": "code",
   "execution_count": 24,
   "metadata": {
    "collapsed": false
   },
   "outputs": [
    {
     "data": {
      "text/html": [
       "<div>\n",
       "<table border=\"1\" class=\"dataframe\">\n",
       "  <thead>\n",
       "    <tr style=\"text-align: right;\">\n",
       "      <th></th>\n",
       "      <th>Trip ID</th>\n",
       "      <th>Duration</th>\n",
       "      <th>Start Date</th>\n",
       "      <th>Start Station</th>\n",
       "      <th>Start Terminal</th>\n",
       "      <th>End Date</th>\n",
       "      <th>End Station</th>\n",
       "      <th>End Terminal</th>\n",
       "      <th>Bike #</th>\n",
       "      <th>Subscriber Type</th>\n",
       "      <th>Zip Code</th>\n",
       "    </tr>\n",
       "  </thead>\n",
       "  <tbody>\n",
       "    <tr>\n",
       "      <th>263728</th>\n",
       "      <td>1270563</td>\n",
       "      <td>86325</td>\n",
       "      <td>7/9/2016 16:30</td>\n",
       "      <td>2nd at Townsend</td>\n",
       "      <td>61</td>\n",
       "      <td>7/10/2016 16:28</td>\n",
       "      <td>Washington at Kearny</td>\n",
       "      <td>46</td>\n",
       "      <td>514</td>\n",
       "      <td>Customer</td>\n",
       "      <td>92657</td>\n",
       "    </tr>\n",
       "    <tr>\n",
       "      <th>8068</th>\n",
       "      <td>924015</td>\n",
       "      <td>86228</td>\n",
       "      <td>9/9/2015 10:23</td>\n",
       "      <td>Howard at 2nd</td>\n",
       "      <td>63</td>\n",
       "      <td>9/10/2015 10:20</td>\n",
       "      <td>Howard at 2nd</td>\n",
       "      <td>63</td>\n",
       "      <td>362</td>\n",
       "      <td>Customer</td>\n",
       "      <td>NaN</td>\n",
       "    </tr>\n",
       "    <tr>\n",
       "      <th>263736</th>\n",
       "      <td>1270571</td>\n",
       "      <td>86110</td>\n",
       "      <td>7/9/2016 16:33</td>\n",
       "      <td>2nd at Townsend</td>\n",
       "      <td>61</td>\n",
       "      <td>7/10/2016 16:28</td>\n",
       "      <td>Washington at Kearny</td>\n",
       "      <td>46</td>\n",
       "      <td>617</td>\n",
       "      <td>Customer</td>\n",
       "      <td>93704</td>\n",
       "    </tr>\n",
       "    <tr>\n",
       "      <th>263738</th>\n",
       "      <td>1270573</td>\n",
       "      <td>86001</td>\n",
       "      <td>7/9/2016 16:35</td>\n",
       "      <td>2nd at Townsend</td>\n",
       "      <td>61</td>\n",
       "      <td>7/10/2016 16:28</td>\n",
       "      <td>Washington at Kearny</td>\n",
       "      <td>46</td>\n",
       "      <td>280</td>\n",
       "      <td>Customer</td>\n",
       "      <td>nil</td>\n",
       "    </tr>\n",
       "    <tr>\n",
       "      <th>192641</th>\n",
       "      <td>1173890</td>\n",
       "      <td>85900</td>\n",
       "      <td>4/22/2016 19:11</td>\n",
       "      <td>San Francisco Caltrain (Townsend at 4th)</td>\n",
       "      <td>70</td>\n",
       "      <td>4/23/2016 19:03</td>\n",
       "      <td>Grant Avenue at Columbus Avenue</td>\n",
       "      <td>73</td>\n",
       "      <td>398</td>\n",
       "      <td>Subscriber</td>\n",
       "      <td>94133</td>\n",
       "    </tr>\n",
       "  </tbody>\n",
       "</table>\n",
       "</div>"
      ],
      "text/plain": [
       "        Trip ID  Duration       Start Date  \\\n",
       "263728  1270563     86325   7/9/2016 16:30   \n",
       "8068     924015     86228   9/9/2015 10:23   \n",
       "263736  1270571     86110   7/9/2016 16:33   \n",
       "263738  1270573     86001   7/9/2016 16:35   \n",
       "192641  1173890     85900  4/22/2016 19:11   \n",
       "\n",
       "                                   Start Station  Start Terminal  \\\n",
       "263728                           2nd at Townsend              61   \n",
       "8068                               Howard at 2nd              63   \n",
       "263736                           2nd at Townsend              61   \n",
       "263738                           2nd at Townsend              61   \n",
       "192641  San Francisco Caltrain (Townsend at 4th)              70   \n",
       "\n",
       "               End Date                      End Station  End Terminal  \\\n",
       "263728  7/10/2016 16:28             Washington at Kearny            46   \n",
       "8068    9/10/2015 10:20                    Howard at 2nd            63   \n",
       "263736  7/10/2016 16:28             Washington at Kearny            46   \n",
       "263738  7/10/2016 16:28             Washington at Kearny            46   \n",
       "192641  4/23/2016 19:03  Grant Avenue at Columbus Avenue            73   \n",
       "\n",
       "        Bike # Subscriber Type Zip Code  \n",
       "263728     514        Customer    92657  \n",
       "8068       362        Customer      NaN  \n",
       "263736     617        Customer    93704  \n",
       "263738     280        Customer      nil  \n",
       "192641     398      Subscriber    94133  "
      ]
     },
     "execution_count": 24,
     "metadata": {},
     "output_type": "execute_result"
    }
   ],
   "source": [
    "trip.sort_values(by='Duration', ascending = False).head()\n",
    "#Duration is in seconds, not minutes"
   ]
  },
  {
   "cell_type": "code",
   "execution_count": 14,
   "metadata": {
    "collapsed": false
   },
   "outputs": [
    {
     "name": "stdout",
     "output_type": "stream",
     "text": [
      "PDT\n",
      "Max TemperatureF\n",
      "Mean TemperatureF\n",
      "Min TemperatureF\n",
      "Max Dew PointF\n",
      "MeanDew PointF\n",
      "Min DewpointF\n",
      "Max Humidity\n",
      " Mean Humidity\n",
      " Min Humidity\n",
      " Max Sea Level PressureIn\n",
      " Mean Sea Level PressureIn\n",
      " Min Sea Level PressureIn\n",
      " Max VisibilityMiles\n",
      " Mean VisibilityMiles\n",
      " Min VisibilityMiles\n",
      " Max Wind SpeedMPH\n",
      " Mean Wind SpeedMPH\n",
      " Max Gust SpeedMPH\n",
      "PrecipitationIn\n",
      " CloudCover\n",
      " Events\n",
      " WindDirDegrees\n",
      "ZIP\n"
     ]
    }
   ],
   "source": [
    "for name in list(weather.columns):\n",
    "    print name"
   ]
  },
  {
   "cell_type": "code",
   "execution_count": 15,
   "metadata": {
    "collapsed": false
   },
   "outputs": [],
   "source": [
    "datetime.datetime.strptime(\"2017/3/1\", \"%Y/%m/%d\")\n",
    "def convert(date):\n",
    "    #return parser.parse(date).strftime('%Y%m%d')\n",
    "    return matplotlib.dates.datestr2num(date)"
   ]
  },
  {
   "cell_type": "code",
   "execution_count": 16,
   "metadata": {
    "collapsed": false
   },
   "outputs": [],
   "source": [
    "dates = weather['PDT'].apply(convert)"
   ]
  },
  {
   "cell_type": "code",
   "execution_count": 20,
   "metadata": {
    "collapsed": false
   },
   "outputs": [
    {
     "data": {
      "image/png": "[encoded data removed]",
      "text/plain": [
       "<matplotlib.figure.Figure at 0x10fe65510>"
      ]
     },
     "metadata": {},
     "output_type": "display_data"
    }
   ],
   "source": [
    "plt.scatter(dates, weather['Max TemperatureF'])\n",
    "plt.gca().xaxis.set_major_formatter(matplotlib.dates.DateFormatter('%m/%y'))\n",
    "plt.show()"
   ]
  },
  {
   "cell_type": "code",
   "execution_count": null,
   "metadata": {
    "collapsed": true
   },
   "outputs": [],
   "source": []
  }
 ],
 "metadata": {
  "anaconda-cloud": {},
  "kernelspec": {
   "display_name": "Python 2",
   "language": "python",
   "name": "python2"
  },
  "language_info": {
   "codemirror_mode": {
    "name": "ipython",
    "version": 2
   },
   "file_extension": ".py",
   "mimetype": "text/x-python",
   "name": "python",
   "nbconvert_exporter": "python",
   "pygments_lexer": "ipython2",
   "version": "2.7.12"
  }
 },
 "nbformat": 4,
 "nbformat_minor": 0
}
